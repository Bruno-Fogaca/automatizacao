{
 "cells": [
  {
   "cell_type": "markdown",
   "id": "b71197fb",
   "metadata": {},
   "source": [
    "# Problema\n",
    "\n",
    "-Buscar dados de valores das ações.\n",
    "\n",
    "-criar analises solicitadas.\n",
    "\n",
    "-Enviar um email com os resultados."
   ]
  },
  {
   "cell_type": "markdown",
   "id": "c26fb426",
   "metadata": {},
   "source": [
    "# Buscar dados"
   ]
  },
  {
   "cell_type": "code",
   "execution_count": 7,
   "id": "d51c73a3",
   "metadata": {},
   "outputs": [],
   "source": [
    "import yfinance"
   ]
  },
  {
   "cell_type": "code",
   "execution_count": 30,
   "id": "75bfce83",
   "metadata": {},
   "outputs": [
    {
     "name": "stdout",
     "output_type": "stream",
     "text": [
      "Digite o codigo da ação: PETR4.SA\n"
     ]
    },
    {
     "data": {
      "text/plain": [
       "Date\n",
       "2022-09-14 00:00:00-03:00    27.228374\n",
       "2022-09-15 00:00:00-03:00    27.175877\n",
       "2022-09-16 00:00:00-03:00    26.930891\n",
       "2022-09-19 00:00:00-03:00    27.359615\n",
       "2022-09-20 00:00:00-03:00    27.202126\n",
       "                               ...    \n",
       "2023-03-08 00:00:00-03:00    25.420000\n",
       "2023-03-09 00:00:00-03:00    25.309999\n",
       "2023-03-10 00:00:00-03:00    24.980000\n",
       "2023-03-13 00:00:00-03:00    24.190001\n",
       "2023-03-14 00:00:00-03:00    23.760000\n",
       "Name: Close, Length: 124, dtype: float64"
      ]
     },
     "execution_count": 30,
     "metadata": {},
     "output_type": "execute_result"
    }
   ],
   "source": [
    "ticker = input(\"Digite o codigo da ação: \")\n",
    "dados = yfinance.Ticker(ticker).history(\"6mo\")\n",
    "fechamento = dados.Close\n",
    "fechamento"
   ]
  },
  {
   "cell_type": "markdown",
   "id": "255b1b85",
   "metadata": {},
   "source": [
    "# Criar analise\n",
    "-Cotação maxima\n",
    "\n",
    "-Cotação minima\n",
    "\n",
    "-Cotação atual"
   ]
  },
  {
   "cell_type": "code",
   "execution_count": 40,
   "id": "311a5154",
   "metadata": {},
   "outputs": [],
   "source": [
    "maxima = fechamento.max()\n",
    "minima = fechamento.min()\n",
    "atual = fechamento[-1]"
   ]
  },
  {
   "cell_type": "markdown",
   "id": "197253cb",
   "metadata": {},
   "source": [
    "# Envio de email\n",
    "-Abrir uma nova aba e digitar o email\n",
    "\n",
    "-Clicar em escrever\n",
    "\n",
    "-preencher o destinatário\n",
    "\n",
    "-Preenchero asunto\n",
    "\n",
    "-Escrever o email com a análise\n",
    "\n",
    "-Enviar"
   ]
  },
  {
   "cell_type": "code",
   "execution_count": 45,
   "id": "023b7e12",
   "metadata": {},
   "outputs": [
    {
     "name": "stdout",
     "output_type": "stream",
     "text": [
      "Requirement already satisfied: pyautogui in c:\\users\\bruno\\anaconda3\\lib\\site-packages (0.9.53)\n",
      "Requirement already satisfied: PyTweening>=1.0.1 in c:\\users\\bruno\\anaconda3\\lib\\site-packages (from pyautogui) (1.0.4)\n",
      "Requirement already satisfied: mouseinfo in c:\\users\\bruno\\anaconda3\\lib\\site-packages (from pyautogui) (0.1.3)\n",
      "Requirement already satisfied: pyscreeze>=0.1.21 in c:\\users\\bruno\\anaconda3\\lib\\site-packages (from pyautogui) (0.1.28)\n",
      "Requirement already satisfied: pymsgbox in c:\\users\\bruno\\anaconda3\\lib\\site-packages (from pyautogui) (1.0.9)\n",
      "Requirement already satisfied: pygetwindow>=0.0.5 in c:\\users\\bruno\\anaconda3\\lib\\site-packages (from pyautogui) (0.0.9)\n",
      "Requirement already satisfied: pyrect in c:\\users\\bruno\\anaconda3\\lib\\site-packages (from pygetwindow>=0.0.5->pyautogui) (0.2.0)\n",
      "Requirement already satisfied: pyperclip in c:\\users\\bruno\\anaconda3\\lib\\site-packages (from mouseinfo->pyautogui) (1.8.2)\n",
      "Requirement already satisfied: pyperclip in c:\\users\\bruno\\anaconda3\\lib\\site-packages (1.8.2)\n"
     ]
    }
   ],
   "source": [
    "!pip install pyautogui\n",
    "!pip install pyperclip"
   ]
  },
  {
   "cell_type": "code",
   "execution_count": 46,
   "id": "e1cd83ae",
   "metadata": {},
   "outputs": [],
   "source": [
    "import pyautogui\n",
    "import pyperclip"
   ]
  },
  {
   "cell_type": "code",
   "execution_count": 112,
   "id": "217abb6c",
   "metadata": {},
   "outputs": [],
   "source": [
    "pyautogui.PAUSE = 2\n",
    "\n",
    "pyautogui.hotkey(\"ctrl\", \"t\")\n",
    "pyperclip.copy(\"www.gmail.com\")\n",
    "pyautogui.hotkey(\"ctrl\", \"v\")\n",
    "pyautogui.hotkey(\"enter\")\n",
    "pyautogui.PAUSE = 11\n",
    "pyautogui.click(x=77, y=163)\n",
    "pyperclip.copy(\"fogaca.b97@gmail.com\")\n",
    "pyautogui.hotkey(\"ctrl\", \"v\")\n",
    "pyautogui.hotkey(\"tab\")\n",
    "pyperclip.copy(\"Análises diárias\")\n",
    "pyautogui.hotkey(\"ctrl\", \"v\")\n",
    "pyautogui.hotkey(\"tab\")\n",
    "\n",
    "mensagem = f\"\"\"\n",
    "Prezado gestor,\n",
    "\n",
    "Seguem os resultados solicitados, referente às ações dos últimos seis meses {ticker}:\n",
    "Cotação maxima: R$ {round(maxima, 2)}\n",
    "Cotação mínima: R$ {round(minima, 2)}\n",
    "Cotação atual: R$ {round(atual, 2)}\n",
    "\n",
    "Qualquer dúvida, estou à disposição!\n",
    "\n",
    "Atenciosamente.\n",
    "\"\"\"\n",
    "pyperclip.copy(mensagem)\n",
    "pyautogui.hotkey(\"ctrl\", \"v\")\n",
    "\n",
    "pyautogui.click(x=837, y=691)\n"
   ]
  },
  {
   "cell_type": "code",
   "execution_count": 111,
   "id": "e652d7cf",
   "metadata": {},
   "outputs": [
    {
     "data": {
      "text/plain": [
       "Point(x=837, y=691)"
      ]
     },
     "execution_count": 111,
     "metadata": {},
     "output_type": "execute_result"
    }
   ],
   "source": [
    "import time\n",
    "time.sleep(8)\n",
    "pyautogui.position()\n",
    "\n"
   ]
  },
  {
   "cell_type": "code",
   "execution_count": null,
   "id": "7adee21a",
   "metadata": {},
   "outputs": [],
   "source": []
  }
 ],
 "metadata": {
  "kernelspec": {
   "display_name": "Python 3 (ipykernel)",
   "language": "python",
   "name": "python3"
  },
  "language_info": {
   "codemirror_mode": {
    "name": "ipython",
    "version": 3
   },
   "file_extension": ".py",
   "mimetype": "text/x-python",
   "name": "python",
   "nbconvert_exporter": "python",
   "pygments_lexer": "ipython3",
   "version": "3.9.12"
  }
 },
 "nbformat": 4,
 "nbformat_minor": 5
}
